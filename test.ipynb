{
 "cells": [
  {
   "cell_type": "code",
   "execution_count": 1,
   "metadata": {},
   "outputs": [
    {
     "name": "stdout",
     "output_type": "stream",
     "text": [
      "Authtoken saved to configuration file: C:\\Users\\dpv_2\\AppData\\Local/ngrok/ngrok.yml\n"
     ]
    }
   ],
   "source": [
    "\n",
    "!ngrok authtoken \"2RTdDFdudUcFsHN6eyjqW0ckNcs_Hdm79Z93krG6wW5gcTB9\" "
   ]
  },
  {
   "cell_type": "code",
   "execution_count": 2,
   "metadata": {},
   "outputs": [
    {
     "name": "stdout",
     "output_type": "stream",
     "text": [
      "^C\n"
     ]
    }
   ],
   "source": [
    "!streamlit run --server.port 8080 Login.py"
   ]
  },
  {
   "cell_type": "code",
   "execution_count": 1,
   "metadata": {},
   "outputs": [
    {
     "name": "stderr",
     "output_type": "stream",
     "text": [
      "t=2023-06-20T12:43:28-0400 lvl=warn msg=\"ngrok config file found at both XDG and legacy locations, using XDG location\" xdg_path=C:\\\\Users\\\\dpv_2\\\\AppData\\\\Local/ngrok/ngrok.yml legacy_path=C:\\\\Users\\\\dpv_2\\\\.ngrok2\\\\ngrok.yml\n"
     ]
    },
    {
     "name": "stdout",
     "output_type": "stream",
     "text": [
      "Please click on the text below NgrokTunnel: \"https://60a6-2800-150-11e-2e5b-8dd3-a54a-dc54-b12c.ngrok-free.app\" -> \"http://localhost:8080\"\n"
     ]
    }
   ],
   "source": [
    "from pyngrok import ngrok\n",
    "\n",
    "\n",
    "\n",
    "public_url = ngrok.connect(addr='http://localhost:8080')\n",
    "print(f\"Please click on the text below {public_url}\")\n",
    "\n"
   ]
  },
  {
   "cell_type": "code",
   "execution_count": null,
   "metadata": {},
   "outputs": [],
   "source": [
    "from pyngrok import ngrok\n",
    "\n",
    "\n",
    "\n",
    "public_url = ngrok.connect(addr='http://localhost:8501')\n",
    "print(f\"Please click on the text below {public_url}\")\n"
   ]
  }
 ],
 "metadata": {
  "kernelspec": {
   "display_name": "Python 3",
   "language": "python",
   "name": "python3"
  },
  "language_info": {
   "codemirror_mode": {
    "name": "ipython",
    "version": 3
   },
   "file_extension": ".py",
   "mimetype": "text/x-python",
   "name": "python",
   "nbconvert_exporter": "python",
   "pygments_lexer": "ipython3",
   "version": "3.8.0"
  },
  "orig_nbformat": 4
 },
 "nbformat": 4,
 "nbformat_minor": 2
}
