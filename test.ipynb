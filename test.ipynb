{
 "cells": [
  {
   "cell_type": "code",
   "execution_count": 4,
   "metadata": {},
   "outputs": [],
   "source": [
    "import os\n",
    "from email.message import EmailMessage\n",
    "import ssl\n",
    "import smtplib\n",
    "import pandas as pd\n",
    "import mimetypes\n",
    "\n",
    "def read_emails_from_csv_of_type(filename, email_types=None):\n",
    "    df = pd.read_csv(filename)\n",
    "\n",
    "    # If email_types is provided, filter the dataframe for rows where type is in the list of email_types\n",
    "    if email_types is not None:\n",
    "        df = df[df['type'].isin(email_types)]\n",
    "\n",
    "    return df['mails'].tolist()\n",
    "\n",
    "def send_mail(email_subject, filenames_to_attach, email_types=None, attach_pdf=True):\n",
    "    email_sender = 'dpavez@crystal-lagoons.com'\n",
    "    email_password = 'vcxpacpxsbyxajmy'\n",
    "    filename = 'mails.csv'\n",
    "\n",
    "    # Read the email addresses from the CSV file\n",
    "    emails = read_emails_from_csv_of_type(filename, email_types)\n",
    "\n",
    "    subject = email_subject\n",
    "\n",
    "    # Initialize the body as an empty string\n",
    "    body = ''\n",
    "    \n",
    "    # Initialize a flag to indicate whether a DWG has been attached\n",
    "    dwg_attached = False\n",
    "\n",
    "    for i, filename_to_attach in enumerate(filenames_to_attach, start=1):\n",
    "        # Get the email body from the text file\n",
    "        txt_filename = os.path.join('TEXs', filename_to_attach, filename_to_attach + '.txt')\n",
    "        with open(txt_filename, 'r') as f:\n",
    "            # Add a title before each part\n",
    "            body += f'Part {i}:\\n' + f.read() + '\\n\\n'\n",
    "\n",
    "    em = EmailMessage()\n",
    "\n",
    "    em['From'] = email_sender\n",
    "    em['To'] = email_sender  # Send to your own email\n",
    "    em['Cc'] = ', '.join(emails)  # CC all emails\n",
    "    em['Subject'] = subject\n",
    "    em.set_content(body)\n",
    "\n",
    "    for filename_to_attach in filenames_to_attach:\n",
    "        if attach_pdf:\n",
    "            # Construct the paths to the files to attach\n",
    "            pdf_filename = os.path.join('TEXs', filename_to_attach, filename_to_attach + '.pdf')\n",
    "            mime_type_pdf, _ = mimetypes.guess_type(pdf_filename)\n",
    "            mime_type_pdf, mime_subtype_pdf = mime_type_pdf.split('/')\n",
    "            with open(pdf_filename, 'rb') as f:\n",
    "                em.add_attachment(f.read(),\n",
    "                                maintype=mime_type_pdf,\n",
    "                                subtype=mime_subtype_pdf,\n",
    "                                filename=os.path.basename(pdf_filename))\n",
    "\n",
    "        # Attach the DWG file if it exists and no DWG has been attached yet\n",
    "        if not dwg_attached:\n",
    "            dwg_filename = os.path.join('dwg', filename_to_attach + '.dwg')\n",
    "            if os.path.exists(dwg_filename):\n",
    "                mime_type_dwg = 'application'\n",
    "                mime_subtype_dwg = 'octet-stream'  # generic byte stream type\n",
    "                with open(dwg_filename, 'rb') as f:\n",
    "                    em.add_attachment(f.read(),\n",
    "                                    maintype=mime_type_dwg,\n",
    "                                    subtype=mime_subtype_dwg,\n",
    "                                    filename=os.path.basename(dwg_filename))\n",
    "                dwg_attached = True  # Update the flag to indicate that a DWG has been attached\n",
    "\n",
    "    context = ssl.create_default_context()\n",
    "\n",
    "    with smtplib.SMTP_SSL('smtp.gmail.com', 465, context=context) as smtp:\n",
    "        smtp.login(email_sender, email_password)\n",
    "        smtp.send_message(em)\n"
   ]
  },
  {
   "cell_type": "code",
   "execution_count": 14,
   "metadata": {},
   "outputs": [],
   "source": [
    "send_mail('ejejej1 pendiente', 'vGmHiSWPSC', attach_pdf=False)"
   ]
  },
  {
   "cell_type": "code",
   "execution_count": 15,
   "metadata": {},
   "outputs": [],
   "source": [
    "def replace_word_in_file(tag, old_word, new_word):\n",
    "    file_path = os.path.join('TEXs', tag, tag + '.txt')\n",
    "    with open(file_path, 'r') as f:\n",
    "        content = f.read()\n",
    "\n",
    "    content = content.replace(old_word, new_word)\n",
    "\n",
    "    with open(file_path, 'w') as f:\n",
    "        f.write(content)\n"
   ]
  },
  {
   "cell_type": "code",
   "execution_count": 18,
   "metadata": {},
   "outputs": [],
   "source": [
    "replace_word_in_file('vGmHiSWPSC', 'rechazado', 'pendiente')  # Add this line"
   ]
  },
  {
   "cell_type": "code",
   "execution_count": 1,
   "metadata": {},
   "outputs": [],
   "source": [
    "import pandas as pd\n",
    "\n",
    "# load your csv file\n",
    "df = pd.read_csv('mails.csv')\n",
    "\n",
    "# create a new column \"type\" and set all its values to \"operaciones\"\n",
    "df['type'] = 'operaciones'\n",
    "\n",
    "# write the modified DataFrame back to csv\n",
    "df.to_csv('mails.csv', index=False)\n"
   ]
  }
 ],
 "metadata": {
  "kernelspec": {
   "display_name": "Python 3",
   "language": "python",
   "name": "python3"
  },
  "language_info": {
   "codemirror_mode": {
    "name": "ipython",
    "version": 3
   },
   "file_extension": ".py",
   "mimetype": "text/x-python",
   "name": "python",
   "nbconvert_exporter": "python",
   "pygments_lexer": "ipython3",
   "version": "3.8.0"
  },
  "orig_nbformat": 4
 },
 "nbformat": 4,
 "nbformat_minor": 2
}
